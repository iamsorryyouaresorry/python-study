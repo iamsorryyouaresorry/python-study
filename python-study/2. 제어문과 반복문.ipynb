{
 "cells": [
  {
   "cell_type": "code",
   "execution_count": 1,
   "id": "8914fb83-282a-4595-b09e-12bfca5563d1",
   "metadata": {},
   "outputs": [
    {
     "name": "stdout",
     "output_type": "stream",
     "text": [
      "11은(는) 홀수입니다.\n"
     ]
    }
   ],
   "source": [
    "number = 11\n",
    "if number % 2 == 0:\n",
    "    print(f\"{number}은(는) 짝수입니다.\")\n",
    "else:\n",
    "    print(f\"{number}은(는) 홀수입니다.\")"
   ]
  },
  {
   "cell_type": "code",
   "execution_count": 2,
   "id": "475a7d1c-1a46-4a85-bc3f-8b2be73bd22f",
   "metadata": {},
   "outputs": [
    {
     "name": "stdin",
     "output_type": "stream",
     "text": [
      "점수를 입력하세요 (0 ~ 100):  12\n"
     ]
    },
    {
     "name": "stdout",
     "output_type": "stream",
     "text": [
      "F학점입니다.\n"
     ]
    }
   ],
   "source": [
    "# 점수를 입력받아 학점을 출력\n",
    "score = int(input(\"점수를 입력하세요 (0 ~ 100): \"))\n",
    "if score >= 90:\n",
    "    print(\"A학점입니다.\")\n",
    "elif score >= 80:\n",
    "    print(\"B학점입니다.\")\n",
    "elif score >= 70:\n",
    "    print(\"C학점입니다.\")\n",
    "elif score >= 60:\n",
    "    print(\"D학점입니다.\")\n",
    "else:\n",
    "    print(\"F학점입니다.\")"
   ]
  },
  {
   "cell_type": "code",
   "execution_count": 4,
   "id": "555f5136-bd3a-4a6d-a4bc-6eb9c781b678",
   "metadata": {},
   "outputs": [
    {
     "name": "stdin",
     "output_type": "stream",
     "text": [
      "사용자 아이디를 입력하세요 aaa\n",
      "사용자 비밀번호를 입력하세요 aaa\n"
     ]
    },
    {
     "name": "stdout",
     "output_type": "stream",
     "text": [
      "등록된 사용자 아이디가 틀립니다.\n"
     ]
    },
    {
     "name": "stdin",
     "output_type": "stream",
     "text": [
      "사용자 아이디를 입력하세요 aa\n",
      "사용자 비밀번호를 입력하세요 aa\n"
     ]
    },
    {
     "name": "stdout",
     "output_type": "stream",
     "text": [
      "등록된 사용자 아이디 또는 비밀번호가 틀립니다.\n"
     ]
    }
   ],
   "source": [
    "## 1.3 로그인 시스템\n",
    "\n",
    "# 간단한 로그인 시스템\n",
    "user_id = \"admin\"\n",
    "user_pw = \"1234\"\n",
    "input_id = input('사용자 아이디를 입력하세요')\n",
    "input_pw = input('사용자 비밀번호를 입력하세요')\n",
    "if user_id == input_id:\n",
    "    if user_pw == input_pw:\n",
    "        print('로그인 성공!')\n",
    "    else:\n",
    "        print('비밀번호가 틀립니다.')\n",
    "else:\n",
    "    print('등록된 사용자 아이디가 틀립니다.')\n",
    "\n",
    "\n",
    "# 간단한 로그인 시스템\n",
    "user_id = \"admin\"\n",
    "user_pw = \"1234\"\n",
    "input_id = input('사용자 아이디를 입력하세요')\n",
    "input_pw = input('사용자 비밀번호를 입력하세요')\n",
    "if user_id == input_id and user_pw == input_pw:\n",
    "    print('로그인 성공!')\n",
    "else:\n",
    "    print('등록된 사용자 아이디 또는 비밀번호가 틀립니다.')"
   ]
  },
  {
   "cell_type": "code",
   "execution_count": 13,
   "id": "632b733f-ccc2-42b2-badc-c72c15b29824",
   "metadata": {},
   "outputs": [
    {
     "name": "stdout",
     "output_type": "stream",
     "text": [
      "2X1=02\t3X1=03\t4X1=04\t5X1=05\t6X1=06\t7X1=07\t8X1=08\t9X1=09\t\n",
      "2X2=04\t3X2=06\t4X2=08\t5X2=10\t6X2=12\t7X2=14\t8X2=16\t9X2=18\t\n",
      "2X3=06\t3X3=09\t4X3=12\t5X3=15\t6X3=18\t7X3=21\t8X3=24\t9X3=27\t\n",
      "2X4=08\t3X4=12\t4X4=16\t5X4=20\t6X4=24\t7X4=28\t8X4=32\t9X4=36\t\n",
      "2X5=10\t3X5=15\t4X5=20\t5X5=25\t6X5=30\t7X5=35\t8X5=40\t9X5=45\t\n",
      "2X6=12\t3X6=18\t4X6=24\t5X6=30\t6X6=36\t7X6=42\t8X6=48\t9X6=54\t\n",
      "2X7=14\t3X7=21\t4X7=28\t5X7=35\t6X7=42\t7X7=49\t8X7=56\t9X7=63\t\n",
      "2X8=16\t3X8=24\t4X8=32\t5X8=40\t6X8=48\t7X8=56\t8X8=64\t9X8=72\t\n",
      "2X9=18\t3X9=27\t4X9=36\t5X9=45\t6X9=54\t7X9=63\t8X9=72\t9X9=81\t\n"
     ]
    }
   ],
   "source": [
    "for i in range(1,10):\n",
    "    for j in range(2,10):\n",
    "        print(f'{j}X{i}={i*j:02}',end='\\t')\n",
    "    print()"
   ]
  },
  {
   "cell_type": "code",
   "execution_count": 15,
   "id": "3682a023-e774-440c-9a5b-e096885f269f",
   "metadata": {},
   "outputs": [
    {
     "name": "stdout",
     "output_type": "stream",
     "text": [
      "5050\n"
     ]
    }
   ],
   "source": [
    "total=0\n",
    "i=0\n",
    "while i<101:\n",
    "    total+=i\n",
    "    i+=1\n",
    "print(total)"
   ]
  },
  {
   "cell_type": "code",
   "execution_count": 16,
   "id": "04f38090-248d-47b7-b272-7c3b56012737",
   "metadata": {},
   "outputs": [
    {
     "name": "stdout",
     "output_type": "stream",
     "text": [
      "5050\n"
     ]
    }
   ],
   "source": [
    "total=0\n",
    "for i in range(101):\n",
    "    total+=i\n",
    "print(total)"
   ]
  },
  {
   "cell_type": "code",
   "execution_count": 17,
   "id": "2219b93e-b7af-4d27-a3b0-bcb44c9153d4",
   "metadata": {},
   "outputs": [
    {
     "name": "stdout",
     "output_type": "stream",
     "text": [
      "2\n",
      "4\n",
      "6\n",
      "8\n",
      "10\n"
     ]
    }
   ],
   "source": [
    "for i in range(1,11):\n",
    "    if i%2==1:\n",
    "        continue\n",
    "    print(i)"
   ]
  },
  {
   "cell_type": "code",
   "execution_count": 18,
   "id": "59864696-87e9-4cf1-b9e6-ea4e2fb93c64",
   "metadata": {},
   "outputs": [],
   "source": [
    "#별 출력 프로그램"
   ]
  },
  {
   "cell_type": "code",
   "execution_count": 20,
   "id": "949fb9c3-29f5-49d5-80d1-b647bcc21377",
   "metadata": {},
   "outputs": [
    {
     "name": "stdout",
     "output_type": "stream",
     "text": [
      "★★★★★★★★★★\n"
     ]
    }
   ],
   "source": [
    "print('★'*10)"
   ]
  },
  {
   "cell_type": "code",
   "execution_count": null,
   "id": "eccf5ab4-24a6-43d0-a692-0816e7eb8c5a",
   "metadata": {},
   "outputs": [],
   "source": []
  },
  {
   "cell_type": "code",
   "execution_count": 19,
   "id": "819daf1a-b9b1-4c4d-b374-5a6b31001893",
   "metadata": {},
   "outputs": [
    {
     "name": "stdin",
     "output_type": "stream",
     "text": [
      "출력할 줄 수 입력>>>> 10\n"
     ]
    },
    {
     "name": "stdout",
     "output_type": "stream",
     "text": [
      "★\n",
      "★★\n",
      "★★★\n",
      "★★★★\n",
      "★★★★★\n",
      "★★★★★★\n",
      "★★★★★★★\n",
      "★★★★★★★★\n",
      "★★★★★★★★★\n",
      "★★★★★★★★★★\n"
     ]
    }
   ],
   "source": [
    "n=int(input('출력할 줄 수 입력>>>>'))\n",
    "\n",
    "for i in range(1, n+1):\n",
    "    print('★'*i)"
   ]
  },
  {
   "cell_type": "code",
   "execution_count": 21,
   "id": "80bfb861-8c73-41a2-b0a5-9b3ff7c026a3",
   "metadata": {},
   "outputs": [],
   "source": [
    "#임의 숫자 피라미드"
   ]
  },
  {
   "cell_type": "code",
   "execution_count": 46,
   "id": "da3eb0d2-478f-47c1-98b7-c6eb1ee810ba",
   "metadata": {},
   "outputs": [
    {
     "name": "stdin",
     "output_type": "stream",
     "text": [
      "피라미드의 높이를 입력하세요>>> 5\n"
     ]
    },
    {
     "name": "stdout",
     "output_type": "stream",
     "text": [
      "    01\n",
      "   020202\n",
      "  0303030303\n",
      " 04040404040404\n",
      "050505050505050505\n"
     ]
    }
   ],
   "source": [
    "n = int(input('피라미드의 높이를 입력하세요>>>'))\n",
    "        \n",
    "for i in range(1,n+1):\n",
    "    for j in range(1, n-i+1):\n",
    "        print(' ', end='')\n",
    "    for k in range(2,2*i+1):\n",
    "        #print('★', end='')\n",
    "        print(f'{i:02}',end='')\n",
    "    print()"
   ]
  },
  {
   "cell_type": "code",
   "execution_count": 48,
   "id": "f5336de3-2f3e-4b6a-8d0d-097adf9fbc5d",
   "metadata": {},
   "outputs": [
    {
     "name": "stdout",
     "output_type": "stream",
     "text": [
      "\n",
      "1 단\n",
      "1x1=1\n",
      "1x2=2\n",
      "1x3=3\n",
      "1x4=4\n",
      "1x5=5\n",
      "1x6=6\n",
      "1x7=7\n",
      "1x8=8\n",
      "1x9=9\n",
      "\n",
      "2 단\n",
      "2x1=2\n",
      "2x2=4\n",
      "2x3=6\n",
      "2x4=8\n",
      "2x5=10\n",
      "2x6=12\n",
      "2x7=14\n",
      "2x8=16\n",
      "2x9=18\n",
      "\n",
      "3 단\n",
      "3x1=3\n",
      "3x2=6\n",
      "3x3=9\n",
      "3x4=12\n",
      "3x5=15\n",
      "3x6=18\n",
      "3x7=21\n",
      "3x8=24\n",
      "3x9=27\n",
      "\n",
      "4 단\n",
      "4x1=4\n",
      "4x2=8\n",
      "4x3=12\n",
      "4x4=16\n",
      "4x5=20\n",
      "4x6=24\n",
      "4x7=28\n",
      "4x8=32\n",
      "4x9=36\n",
      "\n",
      "5 단\n",
      "5x1=5\n",
      "5x2=10\n",
      "5x3=15\n",
      "5x4=20\n",
      "5x5=25\n",
      "5x6=30\n",
      "5x7=35\n",
      "5x8=40\n",
      "5x9=45\n",
      "\n",
      "6 단\n",
      "6x1=6\n",
      "6x2=12\n",
      "6x3=18\n",
      "6x4=24\n",
      "6x5=30\n",
      "6x6=36\n",
      "6x7=42\n",
      "6x8=48\n",
      "6x9=54\n",
      "\n",
      "7 단\n",
      "7x1=7\n",
      "7x2=14\n",
      "7x3=21\n",
      "7x4=28\n",
      "7x5=35\n",
      "7x6=42\n",
      "7x7=49\n",
      "7x8=56\n",
      "7x9=63\n",
      "\n",
      "8 단\n",
      "8x1=8\n",
      "8x2=16\n",
      "8x3=24\n",
      "8x4=32\n",
      "8x5=40\n",
      "8x6=48\n",
      "8x7=56\n",
      "8x8=64\n",
      "8x9=72\n",
      "\n",
      "9 단\n",
      "9x1=9\n",
      "9x2=18\n",
      "9x3=27\n",
      "9x4=36\n",
      "9x5=45\n",
      "9x6=54\n",
      "9x7=63\n",
      "9x8=72\n",
      "9x9=81\n"
     ]
    }
   ],
   "source": [
    "for i in range(1, 10):\n",
    "    print(f'\\n{i} 단')\n",
    "    for j in range(1,10):\n",
    "        print(f'{i}x{j}={i*j}')"
   ]
  },
  {
   "cell_type": "code",
   "execution_count": 56,
   "id": "3bdff933-cc94-40a1-b753-c4fd3b6c275e",
   "metadata": {},
   "outputs": [
    {
     "name": "stdout",
     "output_type": "stream",
     "text": [
      "2X1=02\t3X1=03\t4X1=04\t\n",
      "2X2=04\t3X2=06\t4X2=08\t\n",
      "2X3=06\t3X3=09\t4X3=12\t\n",
      "2X4=08\t3X4=12\t4X4=16\t\n",
      "2X5=10\t3X5=15\t4X5=20\t\n",
      "2X6=12\t3X6=18\t4X6=24\t\n",
      "2X7=14\t3X7=21\t4X7=28\t\n",
      "2X8=16\t3X8=24\t4X8=32\t\n",
      "2X9=18\t3X9=27\t4X9=36\t\n",
      "\n",
      "5X1=05\t6X1=06\t7X1=07\t\n",
      "5X2=10\t6X2=12\t7X2=14\t\n",
      "5X3=15\t6X3=18\t7X3=21\t\n",
      "5X4=20\t6X4=24\t7X4=28\t\n",
      "5X5=25\t6X5=30\t7X5=35\t\n",
      "5X6=30\t6X6=36\t7X6=42\t\n",
      "5X7=35\t6X7=42\t7X7=49\t\n",
      "5X8=40\t6X8=48\t7X8=56\t\n",
      "5X9=45\t6X9=54\t7X9=63\t\n",
      "\n",
      "8X1=08\t9X1=09\t\n",
      "8X2=16\t9X2=18\t\n",
      "8X3=24\t9X3=27\t\n",
      "8X4=32\t9X4=36\t\n",
      "8X5=40\t9X5=45\t\n",
      "8X6=48\t9X6=54\t\n",
      "8X7=56\t9X7=63\t\n",
      "8X8=64\t9X8=72\t\n",
      "8X9=72\t9X9=81\t\n"
     ]
    }
   ],
   "source": [
    "for i in range(1,10):\n",
    "    for j in range(2,5):\n",
    "        print(f'{j}X{i}={i*j:02}',end='\\t')\n",
    "    print()\n",
    "print()\n",
    "for i in range(1,10):\n",
    "    for j in range(5,8):\n",
    "        print(f'{j}X{i}={i*j:02}',end='\\t')\n",
    "    print()\n",
    "print()\n",
    "for i in range(1,10):\n",
    "    for j in range(8,10):\n",
    "        print(f'{j}X{i}={i*j:02}',end='\\t')\n",
    "    print()"
   ]
  },
  {
   "cell_type": "code",
   "execution_count": 86,
   "id": "8a8bb37a-9bd0-4bb6-b200-47d55bf80acd",
   "metadata": {},
   "outputs": [
    {
     "name": "stdout",
     "output_type": "stream",
     "text": [
      "2X1=02\t3X1=03\t4X1=04\t5X1=05\t6X1=06\t7X1=07\t8X1=08\t9X1=09\t2X2=04\t3X2=06\t4X2=08\t5X2=10\t6X2=12\t7X2=14\t8X2=16\t9X2=18\t2X3=06\t3X3=09\t4X3=12\t5X3=15\t6X3=18\t7X3=21\t8X3=24\t9X3=27\t2X4=08\t3X4=12\t4X4=16\t5X4=20\t6X4=24\t7X4=28\t8X4=32\t9X4=36\t2X5=10\t3X5=15\t4X5=20\t5X5=25\t6X5=30\t7X5=35\t8X5=40\t9X5=45\t2X6=12\t3X6=18\t4X6=24\t5X6=30\t6X6=36\t7X6=42\t8X6=48\t9X6=54\t2X7=14\t3X7=21\t4X7=28\t5X7=35\t6X7=42\t7X7=49\t8X7=56\t9X7=63\t2X8=16\t3X8=24\t4X8=32\t5X8=40\t6X8=48\t7X8=56\t8X8=64\t9X8=72\t2X9=18\t3X9=27\t4X9=36\t5X9=45\t6X9=54\t7X9=63\t8X9=72\t9X9=81\t\n",
      "\n",
      "\n",
      "\n",
      "\n",
      "2X1=02\t3X1=03\t4X1=04\t5X1=05\t6X1=06\t7X1=07\t8X1=08\t9X1=09\t2X2=04\t3X2=06\t4X2=08\t5X2=10\t6X2=12\t7X2=14\t8X2=16\t9X2=18\t2X3=06\t3X3=09\t4X3=12\t5X3=15\t6X3=18\t7X3=21\t8X3=24\t9X3=27\t2X4=08\t3X4=12\t4X4=16\t5X4=20\t6X4=24\t7X4=28\t8X4=32\t9X4=36\t2X5=10\t3X5=15\t4X5=20\t5X5=25\t6X5=30\t7X5=35\t8X5=40\t9X5=45\t2X6=12\t3X6=18\t4X6=24\t5X6=30\t6X6=36\t7X6=42\t8X6=48\t9X6=54\t2X7=14\t3X7=21\t4X7=28\t5X7=35\t6X7=42\t7X7=49\t8X7=56\t9X7=63\t2X8=16\t3X8=24\t4X8=32\t5X8=40\t6X8=48\t7X8=56\t8X8=64\t9X8=72\t2X9=18\t3X9=27\t4X9=36\t5X9=45\t6X9=54\t7X9=63\t8X9=72\t9X9=81\t\n",
      "\n",
      "\n",
      "\n",
      "\n",
      "2X1=02\t3X1=03\t4X1=04\t5X1=05\t6X1=06\t7X1=07\t8X1=08\t9X1=09\t2X2=04\t3X2=06\t4X2=08\t5X2=10\t6X2=12\t7X2=14\t8X2=16\t9X2=18\t2X3=06\t3X3=09\t4X3=12\t5X3=15\t6X3=18\t7X3=21\t8X3=24\t9X3=27\t2X4=08\t3X4=12\t4X4=16\t5X4=20\t6X4=24\t7X4=28\t8X4=32\t9X4=36\t2X5=10\t3X5=15\t4X5=20\t5X5=25\t6X5=30\t7X5=35\t8X5=40\t9X5=45\t2X6=12\t3X6=18\t4X6=24\t5X6=30\t6X6=36\t7X6=42\t8X6=48\t9X6=54\t2X7=14\t3X7=21\t4X7=28\t5X7=35\t6X7=42\t7X7=49\t8X7=56\t9X7=63\t2X8=16\t3X8=24\t4X8=32\t5X8=40\t6X8=48\t7X8=56\t8X8=64\t9X8=72\t2X9=18\t3X9=27\t4X9=36\t5X9=45\t6X9=54\t7X9=63\t8X9=72\t9X9=81\t\n",
      "\n",
      "\n"
     ]
    }
   ],
   "source": [
    "for n in range(10):\n",
    "    if n%4==0:\n",
    "        #print()\n",
    "        for i in range(1,10):\n",
    "            for j in range(2,10):\n",
    "                print(f'{j}X{i}={i*j:02}',end='\\t')\n",
    "        print()\n",
    "    print()"
   ]
  },
  {
   "cell_type": "code",
   "execution_count": null,
   "id": "c7816554-5642-4e8d-88cf-cbfb35737c79",
   "metadata": {},
   "outputs": [],
   "source": []
  },
  {
   "cell_type": "code",
   "execution_count": null,
   "id": "81957176-bdd3-408f-8663-7044a0a67cda",
   "metadata": {},
   "outputs": [],
   "source": []
  },
  {
   "cell_type": "code",
   "execution_count": null,
   "id": "9fc51268-26a2-4ef5-a100-62b56e7d982e",
   "metadata": {},
   "outputs": [],
   "source": []
  }
 ],
 "metadata": {
  "kernelspec": {
   "display_name": "Python 3 (ipykernel)",
   "language": "python",
   "name": "python3"
  },
  "language_info": {
   "codemirror_mode": {
    "name": "ipython",
    "version": 3
   },
   "file_extension": ".py",
   "mimetype": "text/x-python",
   "name": "python",
   "nbconvert_exporter": "python",
   "pygments_lexer": "ipython3",
   "version": "3.12.8"
  }
 },
 "nbformat": 4,
 "nbformat_minor": 5
}
