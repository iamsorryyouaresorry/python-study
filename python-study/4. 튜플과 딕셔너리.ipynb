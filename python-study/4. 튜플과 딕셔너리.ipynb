{
 "cells": [
  {
   "cell_type": "code",
   "execution_count": 1,
   "id": "7799da87-4db4-40a6-b65a-54487ad6f326",
   "metadata": {},
   "outputs": [
    {
     "data": {
      "text/plain": [
       "('스퀴트', '런지', '레그걸')"
      ]
     },
     "execution_count": 1,
     "metadata": {},
     "output_type": "execute_result"
    }
   ],
   "source": [
    "leg_day = ('스퀴트','런지','레그걸')\n",
    "leg_day"
   ]
  },
  {
   "cell_type": "code",
   "execution_count": 2,
   "id": "328a1585-381c-47bc-97df-c063979bb358",
   "metadata": {},
   "outputs": [
    {
     "data": {
      "text/plain": [
       "{'삼성전자': 60000, 'SK하이닉스': 140000, '네이버': 350000}"
      ]
     },
     "execution_count": 2,
     "metadata": {},
     "output_type": "execute_result"
    }
   ],
   "source": [
    "stock_prices = {\n",
    "    '삼성전자':60000,\n",
    "    'SK하이닉스' : 140000,\n",
    "    '네이버' : 350000\n",
    "}\n",
    "\n",
    "stock_prices"
   ]
  },
  {
   "cell_type": "code",
   "execution_count": 3,
   "id": "6ac4e27a-7407-4675-a327-93b47a0efddf",
   "metadata": {},
   "outputs": [
    {
     "data": {
      "text/plain": [
       "60000"
      ]
     },
     "execution_count": 3,
     "metadata": {},
     "output_type": "execute_result"
    }
   ],
   "source": [
    "stock_prices['삼성전자']"
   ]
  },
  {
   "cell_type": "code",
   "execution_count": 4,
   "id": "3bed2663-17a6-415a-b1e6-85b955ab73e4",
   "metadata": {},
   "outputs": [
    {
     "name": "stdout",
     "output_type": "stream",
     "text": [
      "삼성전자\n",
      "SK하이닉스\n",
      "네이버\n"
     ]
    }
   ],
   "source": [
    "for key_value in stock_prices:\n",
    "    print(key_value)"
   ]
  },
  {
   "cell_type": "code",
   "execution_count": 5,
   "id": "55f98ddd-ec4d-49cf-9dae-260a3b225dbf",
   "metadata": {},
   "outputs": [
    {
     "name": "stdout",
     "output_type": "stream",
     "text": [
      "삼성전자\n",
      "SK하이닉스\n",
      "네이버\n"
     ]
    }
   ],
   "source": [
    "for key in stock_prices.keys():\n",
    "    print(key)"
   ]
  },
  {
   "cell_type": "code",
   "execution_count": 6,
   "id": "246084eb-62cf-40be-8d54-16436717ca8a",
   "metadata": {},
   "outputs": [
    {
     "name": "stdout",
     "output_type": "stream",
     "text": [
      "60000\n",
      "140000\n",
      "350000\n"
     ]
    }
   ],
   "source": [
    "for value in stock_prices.values():\n",
    "    print(value)"
   ]
  },
  {
   "cell_type": "code",
   "execution_count": 7,
   "id": "9786e6fd-e699-428a-ba82-8af3480c95e9",
   "metadata": {},
   "outputs": [
    {
     "name": "stdout",
     "output_type": "stream",
     "text": [
      "삼성전자 60000\n",
      "SK하이닉스 140000\n",
      "네이버 350000\n"
     ]
    }
   ],
   "source": [
    "for key,value in stock_prices.items():\n",
    "    print(key,value)"
   ]
  },
  {
   "cell_type": "code",
   "execution_count": 15,
   "id": "1de3b35c-a64d-4561-be9c-48b31230ed3a",
   "metadata": {},
   "outputs": [
    {
     "name": "stdout",
     "output_type": "stream",
     "text": [
      " 삼성전자 평균 주가\t : 61000\n",
      " SK하이닉스 평균 주가\t : 157750\n",
      " 네이버 평균 주가\t : 355000\n"
     ]
    }
   ],
   "source": [
    "stock_prices = {\n",
    "    '삼성전자':[60000,61000,62000],\n",
    "    'SK하이닉스' : [140000,141000,150000,200000],\n",
    "    '네이버' : [350000,355000,360000]\n",
    "}\n",
    "\n",
    "for key,value in stock_prices.items():\n",
    "    avg = sum(value)/len(value)\n",
    "    #print(key,sum(value)/len(value))\n",
    "    print(f' {key} 평균 주가\\t : {int(avg)}')\n"
   ]
  },
  {
   "cell_type": "code",
   "execution_count": 32,
   "id": "bf75814b-a725-4921-ad72-c17eee7c10eb",
   "metadata": {},
   "outputs": [
    {
     "name": "stdout",
     "output_type": "stream",
     "text": [
      "삼성전자 최고가 : 80000\n",
      "SK하이닉스 최고가 : 160000\n",
      "네이버 최고가 : 400000\n"
     ]
    }
   ],
   "source": [
    "stock_prices = {\n",
    "    '삼성전자':{'최고가':80000,'최저가':61000,'현재가':62000},\n",
    "    'SK하이닉스' : {'최고가':160000,'최저가':141000,'현재가':150000},\n",
    "    '네이버' : {'최고가':400000,'최저가':300000,'현재가':360000}\n",
    "}\n",
    "for key, value in stock_prices.items():\n",
    "    #print(key,value['최고가'])\n",
    "    print(f\"{key} 최고가 : {value['최고가']}\")"
   ]
  },
  {
   "cell_type": "code",
   "execution_count": 49,
   "id": "af909339-2bdc-476f-b6b0-b87b655905d0",
   "metadata": {},
   "outputs": [
    {
     "name": "stdout",
     "output_type": "stream",
     "text": [
      "삼성전자 현재가\t: 62000\n",
      "SK하이닉스 현재가\t: 150000\n",
      "네이버 현재가\t: 360000\n"
     ]
    }
   ],
   "source": [
    "for key, value in stock_prices.items():\n",
    "    #print(key,value['최고가'])\n",
    "    print(f\"{key} 현재가\\t: {value['현재가']}\")"
   ]
  },
  {
   "cell_type": "code",
   "execution_count": 52,
   "id": "fe9e5e71-7e2b-45bc-b6e3-16b6964bfa7f",
   "metadata": {},
   "outputs": [
    {
     "name": "stdout",
     "output_type": "stream",
     "text": [
      "삼성전자 - 최고가 : 80000, 최저가 : 61000\n",
      "SK하이닉스 - 최고가 : 160000, 최저가 : 141000\n",
      "네이버 - 최고가 : 400000, 최저가 : 300000\n"
     ]
    }
   ],
   "source": [
    "for key,value in stock_prices.items():\n",
    "    mi=value['최저가']\n",
    "    mx=value['최고가']\n",
    "    print(f'{key} - 최고가 : {mx}, 최저가 : {mi}')"
   ]
  },
  {
   "cell_type": "code",
   "execution_count": 57,
   "id": "df803742-539b-499f-90b0-2bc1aac3202e",
   "metadata": {},
   "outputs": [
    {
     "name": "stdout",
     "output_type": "stream",
     "text": [
      "종목 :  삼성전자   최고가 :  80000 최저가 :  61000\n",
      "종목 :  SK하이닉스   최고가 :  160000 최저가 :  141000\n",
      "종목 :  네이버   최고가 :  400000 최저가 :  300000\n"
     ]
    }
   ],
   "source": [
    "for key,value in stock_prices.items():\n",
    "    mi=value['최저가']\n",
    "    mx=value['최고가']\n",
    "    print('종목 : ' ,key,'  최고가 : ',mx, '최저가 : ',mi)"
   ]
  },
  {
   "cell_type": "code",
   "execution_count": null,
   "id": "4204435d-fb3c-4873-9195-a898622283c8",
   "metadata": {},
   "outputs": [],
   "source": []
  },
  {
   "cell_type": "code",
   "execution_count": null,
   "id": "7d026e9a-27c1-4af6-98ee-5d5c83d3e028",
   "metadata": {},
   "outputs": [],
   "source": []
  },
  {
   "cell_type": "code",
   "execution_count": null,
   "id": "0980dc6a-2061-4e3e-aa25-5fd2fdd23eda",
   "metadata": {},
   "outputs": [],
   "source": []
  }
 ],
 "metadata": {
  "kernelspec": {
   "display_name": "Python 3 (ipykernel)",
   "language": "python",
   "name": "python3"
  },
  "language_info": {
   "codemirror_mode": {
    "name": "ipython",
    "version": 3
   },
   "file_extension": ".py",
   "mimetype": "text/x-python",
   "name": "python",
   "nbconvert_exporter": "python",
   "pygments_lexer": "ipython3",
   "version": "3.12.8"
  }
 },
 "nbformat": 4,
 "nbformat_minor": 5
}
