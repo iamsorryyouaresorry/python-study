{
 "cells": [
  {
   "cell_type": "markdown",
   "id": "cd3336ed-29da-439b-b32d-bf2615dd0f4d",
   "metadata": {},
   "source": [
    "# 1. 조건문 예제\n",
    "\n",
    "## 1.1 짝수와 홀수 판별하기"
   ]
  },
  {
   "cell_type": "code",
   "execution_count": 16,
   "id": "0ddb5d39-441e-42ae-bf0a-6b5acdb56107",
   "metadata": {},
   "outputs": [
    {
     "name": "stdin",
     "output_type": "stream",
     "text": [
      "정수를 입력하세요:  55\n"
     ]
    },
    {
     "name": "stdout",
     "output_type": "stream",
     "text": [
      "55은(는) 홀수입니다.\n"
     ]
    }
   ],
   "source": [
    "number = int(input(\"정수를 입력하세요: \"))\n",
    "\n",
    "if number % 2 == 0:\n",
    "    print(f\"{number}은(는) 짝수입니다.\")\n",
    "else:\n",
    "    print(f\"{number}은(는) 홀수입니다.\")"
   ]
  },
  {
   "cell_type": "markdown",
   "id": "0e747f32-fd4d-4af2-8c83-bb3910112cc0",
   "metadata": {},
   "source": [
    "## 1.2 성적에 따른 학점 출력"
   ]
  },
  {
   "cell_type": "code",
   "execution_count": 15,
   "id": "f9210cf0-36bd-435d-bf8e-1d1b174544c3",
   "metadata": {},
   "outputs": [
    {
     "name": "stdin",
     "output_type": "stream",
     "text": [
      "점수를 입력하세요 (0 ~ 100):  55\n"
     ]
    },
    {
     "name": "stdout",
     "output_type": "stream",
     "text": [
      "F학점입니다.\n"
     ]
    }
   ],
   "source": [
    "# 점수를 입력받아 학점을 출력\n",
    "score = int(input(\"점수를 입력하세요 (0 ~ 100): \"))\n",
    "\n",
    "if score >= 90:\n",
    "    print(\"A학점입니다.\")\n",
    "elif score >= 80:\n",
    "    print(\"B학점입니다.\")\n",
    "elif score >= 70:\n",
    "    print(\"C학점입니다.\")\n",
    "elif score >= 60:\n",
    "    print(\"D학점입니다.\")\n",
    "else:\n",
    "    print(\"F학점입니다.\")"
   ]
  },
  {
   "cell_type": "code",
   "execution_count": null,
   "id": "570b99bd-a106-47da-aa28-346228dcb96d",
   "metadata": {},
   "outputs": [],
   "source": []
  }
 ],
 "metadata": {
  "kernelspec": {
   "display_name": "Python 3 (ipykernel)",
   "language": "python",
   "name": "python3"
  },
  "language_info": {
   "codemirror_mode": {
    "name": "ipython",
    "version": 3
   },
   "file_extension": ".py",
   "mimetype": "text/x-python",
   "name": "python",
   "nbconvert_exporter": "python",
   "pygments_lexer": "ipython3",
   "version": "3.12.8"
  }
 },
 "nbformat": 4,
 "nbformat_minor": 5
}
