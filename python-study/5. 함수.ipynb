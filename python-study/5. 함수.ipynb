{
 "cells": [
  {
   "cell_type": "code",
   "execution_count": 6,
   "id": "4320f56b-b978-4c62-b8e8-0395c8c905f0",
   "metadata": {},
   "outputs": [],
   "source": [
    "def add(a,b):\n",
    "    return a+b\n",
    "\n",
    "def sub(a,b):\n",
    "    return a-b\n",
    "\n",
    "def mul(a,b):\n",
    "    return a*b\n",
    "\n",
    "def div(a,b):\n",
    "    if b==0:\n",
    "        return 'b=0'\n",
    "    return a/b"
   ]
  },
  {
   "cell_type": "code",
   "execution_count": 7,
   "id": "dc08ab96-2661-4ad4-a5ef-e5762637b5ce",
   "metadata": {},
   "outputs": [
    {
     "data": {
      "text/plain": [
       "30"
      ]
     },
     "execution_count": 7,
     "metadata": {},
     "output_type": "execute_result"
    }
   ],
   "source": [
    "c=10;d=20\n",
    "add(c,d)"
   ]
  },
  {
   "cell_type": "code",
   "execution_count": 8,
   "id": "a3639a35-dd2f-45a8-9d53-99b2d21c4275",
   "metadata": {},
   "outputs": [
    {
     "data": {
      "text/plain": [
       "-10"
      ]
     },
     "execution_count": 8,
     "metadata": {},
     "output_type": "execute_result"
    }
   ],
   "source": [
    "sub(c,d)"
   ]
  },
  {
   "cell_type": "code",
   "execution_count": 9,
   "id": "a786eb24-a61b-448c-a650-f78b6cb40805",
   "metadata": {},
   "outputs": [
    {
     "data": {
      "text/plain": [
       "200"
      ]
     },
     "execution_count": 9,
     "metadata": {},
     "output_type": "execute_result"
    }
   ],
   "source": [
    "mul(c,d)"
   ]
  },
  {
   "cell_type": "code",
   "execution_count": 10,
   "id": "d04907bf-af54-4a19-943d-fe1a2c510873",
   "metadata": {},
   "outputs": [
    {
     "data": {
      "text/plain": [
       "0.5"
      ]
     },
     "execution_count": 10,
     "metadata": {},
     "output_type": "execute_result"
    }
   ],
   "source": [
    "div(c,d)"
   ]
  },
  {
   "cell_type": "code",
   "execution_count": 11,
   "id": "01017ae5-21ad-40d1-8d53-a4cb48c6c4b4",
   "metadata": {},
   "outputs": [],
   "source": [
    "def user_avg(a,b,c):\n",
    "    avg=(a+b+c)/3\n",
    "    return avg"
   ]
  },
  {
   "cell_type": "code",
   "execution_count": 12,
   "id": "91dab947-8635-4758-9c7e-5f801ac296f4",
   "metadata": {},
   "outputs": [
    {
     "data": {
      "text/plain": [
       "20.0"
      ]
     },
     "execution_count": 12,
     "metadata": {},
     "output_type": "execute_result"
    }
   ],
   "source": [
    "result=user_avg(10,20,30)\n",
    "result"
   ]
  },
  {
   "cell_type": "markdown",
   "id": "aba5c78c-e8ca-4434-9a18-865396a42a18",
   "metadata": {},
   "source": [
    "# 변수값의 교환swap"
   ]
  },
  {
   "cell_type": "code",
   "execution_count": 16,
   "id": "675418ce-5804-48fd-afc2-2940d53154ff",
   "metadata": {},
   "outputs": [
    {
     "name": "stdout",
     "output_type": "stream",
     "text": [
      "na :  20 \t nb :  10\n"
     ]
    }
   ],
   "source": [
    "na = 10\n",
    "nb = 20\n",
    "na,nb=nb,na\n",
    "\n",
    "print('na : ',na,'\\t','nb : ',nb)"
   ]
  },
  {
   "cell_type": "code",
   "execution_count": 18,
   "id": "a708d435-c139-4282-b45e-f3b28dbb570c",
   "metadata": {},
   "outputs": [
    {
     "name": "stdout",
     "output_type": "stream",
     "text": [
      "swap전 100  :  200\n",
      "swap후 200  :  100\n"
     ]
    }
   ],
   "source": [
    "def swapa(pa,pb):\n",
    "    pa,pb=pb,pa\n",
    "    return (pa,pb)\n",
    "\n",
    "na=100\n",
    "nb=200\n",
    "print('swap전',na,' : ',nb)\n",
    "na,nb=swapa(na,nb)\n",
    "print('swap후',na,' : ',nb)"
   ]
  },
  {
   "cell_type": "code",
   "execution_count": 21,
   "id": "2f89103e-f427-46de-b009-6c64567d9cda",
   "metadata": {},
   "outputs": [
    {
     "name": "stdout",
     "output_type": "stream",
     "text": [
      "swap전 10  :  20\n",
      "swap후 20  :  10\n"
     ]
    }
   ],
   "source": [
    "def swapb():\n",
    "    global na,nb\n",
    "    temp=na\n",
    "    na=nb\n",
    "    nb=temp\n",
    "\n",
    "na=10\n",
    "nb=20\n",
    "print('swap전',na,' : ',nb)\n",
    "swapb()\n",
    "print('swap후',na,' : ',nb)"
   ]
  },
  {
   "cell_type": "code",
   "execution_count": 25,
   "id": "1d5a0a7d-5bb2-4184-a3c0-86ce5a85c502",
   "metadata": {},
   "outputs": [],
   "source": [
    "def persona(width, height):\n",
    "    print(' 함수 디폴트 값 없음, width = ',width,' height = ',height)\n",
    "\n",
    "def personb(width=60, height=180):\n",
    "    print(' 함수 디폴트 값 있음, width = ',width,' height = ',height)"
   ]
  },
  {
   "cell_type": "code",
   "execution_count": 26,
   "id": "edd5929d-ab23-41c8-ba18-7817f2c56e7c",
   "metadata": {},
   "outputs": [
    {
     "name": "stdout",
     "output_type": "stream",
     "text": [
      " 함수 디폴트 값 없음, width =  10  height =  20\n"
     ]
    }
   ],
   "source": [
    "persona(10,20)"
   ]
  },
  {
   "cell_type": "code",
   "execution_count": 27,
   "id": "a5f417a1-2c85-42fc-9dab-21ba4f1d79ba",
   "metadata": {},
   "outputs": [
    {
     "name": "stdout",
     "output_type": "stream",
     "text": [
      " 함수 디폴트 값 있음, width =  60  height =  180\n"
     ]
    }
   ],
   "source": [
    "personb()"
   ]
  },
  {
   "cell_type": "code",
   "execution_count": 28,
   "id": "53c85d7c-c8d0-4c8b-af55-b58c12b0801f",
   "metadata": {},
   "outputs": [
    {
     "name": "stdout",
     "output_type": "stream",
     "text": [
      " 함수 디폴트 값 있음, width =  50  height =  180\n"
     ]
    }
   ],
   "source": [
    "personb(50)"
   ]
  },
  {
   "cell_type": "code",
   "execution_count": 29,
   "id": "05b74297-10bd-49aa-874e-5903396470e8",
   "metadata": {},
   "outputs": [
    {
     "name": "stdout",
     "output_type": "stream",
     "text": [
      " 함수 디폴트 값 있음, width =  50  height =  190\n"
     ]
    }
   ],
   "source": [
    "personb(50,190)"
   ]
  },
  {
   "cell_type": "code",
   "execution_count": 30,
   "id": "6d3257f4-979f-499f-977e-04f3a471b44b",
   "metadata": {},
   "outputs": [
    {
     "name": "stdout",
     "output_type": "stream",
     "text": [
      "[0]\n"
     ]
    }
   ],
   "source": [
    "def fget(nums=[0]):\n",
    "    return nums\n",
    "\n",
    "result1=fget()\n",
    "print(result1)"
   ]
  },
  {
   "cell_type": "code",
   "execution_count": 31,
   "id": "1f230acc-4b56-4b45-8c99-85ca2b27e65a",
   "metadata": {},
   "outputs": [
    {
     "name": "stdout",
     "output_type": "stream",
     "text": [
      "[1, 2, 3, 4, 5]\n"
     ]
    }
   ],
   "source": [
    "result2=fget([1,2,3,4,5])\n",
    "print(result2)"
   ]
  },
  {
   "cell_type": "code",
   "execution_count": 32,
   "id": "7ec773ca-ef16-490b-b4b7-44837d2af4b7",
   "metadata": {},
   "outputs": [],
   "source": [
    "def fgets(nums=[0]):\n",
    "    for n in nums:\n",
    "        print(n)"
   ]
  },
  {
   "cell_type": "code",
   "execution_count": 35,
   "id": "bb8a7e5c-9bc0-4413-9848-981d6b813963",
   "metadata": {},
   "outputs": [
    {
     "name": "stdout",
     "output_type": "stream",
     "text": [
      "0\n"
     ]
    }
   ],
   "source": [
    "fgets([0])"
   ]
  },
  {
   "cell_type": "code",
   "execution_count": 36,
   "id": "81cc1bd8-a6ca-43bc-8160-f5b3cb298676",
   "metadata": {},
   "outputs": [
    {
     "name": "stdout",
     "output_type": "stream",
     "text": [
      "1\n",
      "2\n",
      "3\n",
      "4\n",
      "5\n"
     ]
    }
   ],
   "source": [
    "fgets([1,2,3,4,5])"
   ]
  },
  {
   "cell_type": "code",
   "execution_count": null,
   "id": "01f7d5c1-c3de-429a-afb7-001a5a97e1a3",
   "metadata": {},
   "outputs": [],
   "source": []
  }
 ],
 "metadata": {
  "kernelspec": {
   "display_name": "Python 3 (ipykernel)",
   "language": "python",
   "name": "python3"
  },
  "language_info": {
   "codemirror_mode": {
    "name": "ipython",
    "version": 3
   },
   "file_extension": ".py",
   "mimetype": "text/x-python",
   "name": "python",
   "nbconvert_exporter": "python",
   "pygments_lexer": "ipython3",
   "version": "3.12.8"
  }
 },
 "nbformat": 4,
 "nbformat_minor": 5
}
