{
 "cells": [
  {
   "cell_type": "code",
   "execution_count": 1,
   "id": "14e5704e-dd32-40fd-a4ca-b134ea97cc32",
   "metadata": {},
   "outputs": [],
   "source": [
    "# 클래스는?\n",
    "class Ex1:\n",
    "    def func1(self):\n",
    "        self.text='멈버함수(메소드)'\n",
    "        print(self.text)"
   ]
  },
  {
   "cell_type": "code",
   "execution_count": 7,
   "id": "1bdf27d6-6cdb-4ae5-b9d5-16660a1d9a75",
   "metadata": {},
   "outputs": [
    {
     "name": "stdout",
     "output_type": "stream",
     "text": [
      "멈버함수(메소드)\n"
     ]
    }
   ],
   "source": [
    "ex1 = Ex1()\n",
    "#print(ex)\n",
    "ex1.func1()"
   ]
  },
  {
   "cell_type": "code",
   "execution_count": 8,
   "id": "7d85aa6b-544c-4e49-8f34-ac2c3149769c",
   "metadata": {},
   "outputs": [],
   "source": [
    "class Ex2():\n",
    "    def func1(self):\n",
    "        self.text='멤버함수1(메소드1)'\n",
    "        print(self.text)\n",
    "        \n",
    "    def func2(self,pa):\n",
    "        self.x=pa\n",
    "        print('멤버 변수 x : ',self.x)\n",
    "        self.text='멤버함수2(메소드2)'\n",
    "        print(self.text)"
   ]
  },
  {
   "cell_type": "code",
   "execution_count": 6,
   "id": "f6b4bd44-ed5c-46de-a378-6fa4f4c1ec49",
   "metadata": {},
   "outputs": [
    {
     "name": "stdout",
     "output_type": "stream",
     "text": [
      "멤버함수1(메소드1)\n",
      "멤버 변수 x :  100\n",
      "멤버함수2(메소드2)\n"
     ]
    }
   ],
   "source": [
    "ex2=Ex2()\n",
    "ex2.func1()\n",
    "ex2.func2(100)"
   ]
  },
  {
   "cell_type": "markdown",
   "id": "0bc14f64-d77c-44e5-bb65-201439f09d3c",
   "metadata": {},
   "source": [
    "## 초기 메소드 __init__"
   ]
  },
  {
   "cell_type": "code",
   "execution_count": 1,
   "id": "80412d67-1a99-4405-9c0a-b80927de9033",
   "metadata": {},
   "outputs": [],
   "source": [
    "class Cexam():\n",
    "    def __init__(self, pa):\n",
    "        self.x=pa\n",
    "        print('멤버 변수 x는 ',self.x)\n",
    "    def fsam(self):\n",
    "        self.text='멤버 함수(메소드)'\n",
    "        print(self.text)"
   ]
  },
  {
   "cell_type": "code",
   "execution_count": 5,
   "id": "3a3787dc-458e-4f5e-b90a-b736be5f2770",
   "metadata": {},
   "outputs": [
    {
     "name": "stdout",
     "output_type": "stream",
     "text": [
      "멤버 변수 x는  10\n"
     ]
    },
    {
     "data": {
      "text/plain": [
       "<__main__.Cexam at 0x220b381bb90>"
      ]
     },
     "execution_count": 5,
     "metadata": {},
     "output_type": "execute_result"
    }
   ],
   "source": [
    "ca = Cexam(10) # 객체 생성과 동시에 10값을 대입\n",
    "ca"
   ]
  },
  {
   "cell_type": "code",
   "execution_count": 6,
   "id": "10bd74bc-2135-4a5b-8ef1-460175f9e4be",
   "metadata": {},
   "outputs": [
    {
     "data": {
      "text/plain": [
       "10"
      ]
     },
     "execution_count": 6,
     "metadata": {},
     "output_type": "execute_result"
    }
   ],
   "source": [
    "ca.x"
   ]
  },
  {
   "cell_type": "code",
   "execution_count": 7,
   "id": "2e08984e-9aa8-4bca-9e3d-f332ba6ad175",
   "metadata": {},
   "outputs": [
    {
     "name": "stdout",
     "output_type": "stream",
     "text": [
      "멤버 변수 x는  30\n"
     ]
    },
    {
     "data": {
      "text/plain": [
       "<__main__.Cexam at 0x220b201f020>"
      ]
     },
     "execution_count": 7,
     "metadata": {},
     "output_type": "execute_result"
    }
   ],
   "source": [
    "cb=Cexam(30)\n",
    "cb"
   ]
  },
  {
   "cell_type": "markdown",
   "id": "c5c1080b-93e5-428f-a50f-35db4fe9577d",
   "metadata": {},
   "source": [
    "## self의 의미"
   ]
  },
  {
   "cell_type": "code",
   "execution_count": 8,
   "id": "3955f4de-2fb2-4d79-8e32-a5a91b6d51f8",
   "metadata": {},
   "outputs": [],
   "source": [
    "class Cexam2():\n",
    "    def __init__(self, pa, pb):\n",
    "        self.x=pa\n",
    "        y=pb\n",
    "        print('멤버 변수 x는 ',self.x)\n",
    "        print('변수 y는 ',y)\n",
    "    def fsam(self):\n",
    "        self.text='멤버 함수(메소드)'\n",
    "        print(self.text)\n",
    "    def fsamb():        # self라는 멤버 변수 없는 것\n",
    "        print('멤버 함수 아니다')"
   ]
  },
  {
   "cell_type": "code",
   "execution_count": 11,
   "id": "49a79975-8ce6-44d3-8447-cefe1188bfef",
   "metadata": {},
   "outputs": [
    {
     "name": "stdout",
     "output_type": "stream",
     "text": [
      "멤버 변수 x는  10\n",
      "변수 y는  20\n"
     ]
    }
   ],
   "source": [
    "ca2 = Cexam2(10,20)"
   ]
  },
  {
   "cell_type": "code",
   "execution_count": 12,
   "id": "5ef3b57f-2f0b-42e1-82d4-2b7698087a92",
   "metadata": {},
   "outputs": [
    {
     "name": "stdout",
     "output_type": "stream",
     "text": [
      "멤버 함수(메소드)\n"
     ]
    }
   ],
   "source": [
    "ca2.fsam()"
   ]
  },
  {
   "cell_type": "code",
   "execution_count": 14,
   "id": "d6f8d43a-62db-4e3e-b578-7b843ba5550e",
   "metadata": {},
   "outputs": [
    {
     "name": "stdout",
     "output_type": "stream",
     "text": [
      "멤버 함수 아니다\n"
     ]
    }
   ],
   "source": [
    "Cexam2.fsamb()"
   ]
  },
  {
   "cell_type": "markdown",
   "id": "a177cac4-e03d-4ca3-a40f-3e2281cd70df",
   "metadata": {},
   "source": [
    "## 파이썬에서 변수와 기억장소(메모리) 할당"
   ]
  },
  {
   "cell_type": "code",
   "execution_count": 4,
   "id": "7207e483-06cf-4865-acfc-f930d66f0e37",
   "metadata": {},
   "outputs": [],
   "source": [
    "class Cal:\n",
    "    def setinit(self):\n",
    "        self.result=0\n",
    "    def adder(self, num):\n",
    "        self.result=self.result+num\n",
    "        return self.result\n",
    "    "
   ]
  },
  {
   "cell_type": "code",
   "execution_count": 5,
   "id": "59d898a9-dcb7-4402-a1a6-c0b5d68c6ce5",
   "metadata": {},
   "outputs": [],
   "source": [
    "cal1=Cal()"
   ]
  },
  {
   "cell_type": "code",
   "execution_count": 6,
   "id": "89658891-0e50-47dd-807d-f277828be298",
   "metadata": {},
   "outputs": [],
   "source": [
    "cal1.setinit()"
   ]
  },
  {
   "cell_type": "code",
   "execution_count": 7,
   "id": "2a547a22-6fcf-45ef-93ff-ee78d4bf80ad",
   "metadata": {},
   "outputs": [
    {
     "name": "stdout",
     "output_type": "stream",
     "text": [
      "0\n"
     ]
    }
   ],
   "source": [
    "print(cal1.result)"
   ]
  },
  {
   "cell_type": "code",
   "execution_count": 8,
   "id": "cc29f5d5-2e0e-431e-89a4-158c98c8d214",
   "metadata": {},
   "outputs": [],
   "source": [
    "cal2=Cal()\n",
    "cal2.setinit()"
   ]
  },
  {
   "cell_type": "code",
   "execution_count": 10,
   "id": "71cc7530-79b5-478c-a245-f797e34fa3c3",
   "metadata": {},
   "outputs": [
    {
     "name": "stdout",
     "output_type": "stream",
     "text": [
      "3\n",
      "4\n"
     ]
    }
   ],
   "source": [
    "print(cal1.adder(3))\n",
    "print(cal2.adder(4))"
   ]
  },
  {
   "cell_type": "code",
   "execution_count": 11,
   "id": "3591c9e5-4fc7-43ea-baaa-b989ec4ef507",
   "metadata": {},
   "outputs": [
    {
     "name": "stdout",
     "output_type": "stream",
     "text": [
      "3\n",
      "4\n"
     ]
    }
   ],
   "source": [
    "print(cal1.result)\n",
    "print(cal2.result)"
   ]
  },
  {
   "cell_type": "code",
   "execution_count": 12,
   "id": "cee80d08-2ef7-422a-83c5-bdbed612f671",
   "metadata": {},
   "outputs": [
    {
     "name": "stdout",
     "output_type": "stream",
     "text": [
      "6\n",
      "11\n"
     ]
    }
   ],
   "source": [
    "print(cal1.adder(3))\n",
    "print(cal2.adder(7))"
   ]
  },
  {
   "cell_type": "code",
   "execution_count": 13,
   "id": "cbe49cbf-7c1f-42dc-8542-e1c6d75fcad1",
   "metadata": {},
   "outputs": [],
   "source": [
    "cal3=Cal()"
   ]
  },
  {
   "cell_type": "code",
   "execution_count": 14,
   "id": "640193ab-8c2e-464c-a408-6dc98207d99d",
   "metadata": {},
   "outputs": [
    {
     "name": "stdout",
     "output_type": "stream",
     "text": [
      "10\n",
      "20\n"
     ]
    }
   ],
   "source": [
    "cal3.setinit()\n",
    "print(cal3.adder(10))\n",
    "print(cal3.adder(10))"
   ]
  },
  {
   "cell_type": "code",
   "execution_count": 15,
   "id": "eb73b28f-5071-43e1-89f1-2dc050cd4889",
   "metadata": {},
   "outputs": [
    {
     "name": "stdout",
     "output_type": "stream",
     "text": [
      "9\n",
      "18\n"
     ]
    }
   ],
   "source": [
    "print(cal1.adder(3))\n",
    "print(cal2.adder(7))"
   ]
  },
  {
   "cell_type": "markdown",
   "id": "826e82a8-49c3-4d1a-b0cd-192e8e8e70d8",
   "metadata": {},
   "source": [
    "## __init__ 메소드 객체의 변수 값을 초기화"
   ]
  },
  {
   "cell_type": "code",
   "execution_count": 16,
   "id": "e8fabdb1-9ff0-4f7a-b978-5c62c7212c38",
   "metadata": {},
   "outputs": [
    {
     "data": {
      "text/plain": [
       "10"
      ]
     },
     "execution_count": 16,
     "metadata": {},
     "output_type": "execute_result"
    }
   ],
   "source": [
    "cal4=Cal()\n",
    "# 초기화없이 실행하면 류류\n",
    "cal4.setinit()\n",
    "cal4.adder(10)"
   ]
  },
  {
   "cell_type": "code",
   "execution_count": 17,
   "id": "c753e2c4-c3d0-4571-ae29-738908e2add5",
   "metadata": {},
   "outputs": [],
   "source": [
    "class Cal:\n",
    "    def __init__(self):\n",
    "        self.result=0\n",
    "    def adder(self, num):\n",
    "        self.result=self.result+num\n",
    "        return self.result\n",
    "    "
   ]
  },
  {
   "cell_type": "code",
   "execution_count": 18,
   "id": "62afc556-2b26-4682-938e-e071c1621117",
   "metadata": {},
   "outputs": [
    {
     "data": {
      "text/plain": [
       "50"
      ]
     },
     "execution_count": 18,
     "metadata": {},
     "output_type": "execute_result"
    }
   ],
   "source": [
    "cal5=Cal()\n",
    "# 최기화 없이 실행해도 된다\n",
    "# __init__에서 이미 초기화\n",
    "cal5.adder(50)"
   ]
  },
  {
   "cell_type": "code",
   "execution_count": 23,
   "id": "21a8aa2b-32f9-459e-bd03-4ddb8097ea84",
   "metadata": {},
   "outputs": [],
   "source": [
    "## 멤버 파라미터값으로 변수 초기화\n",
    "\n",
    "class Car:\n",
    "    def __init__(self, num,speed,):\n",
    "        self.num=num\n",
    "        self.speed=speed"
   ]
  },
  {
   "cell_type": "code",
   "execution_count": 24,
   "id": "100d4e3f-31bc-40af-bfb3-e615c79cddc8",
   "metadata": {},
   "outputs": [
    {
     "name": "stdout",
     "output_type": "stream",
     "text": [
      "차량 번호  2025\n",
      "속도는  90\n"
     ]
    }
   ],
   "source": [
    "car1=Car(2025,90)\n",
    "print('차량 번호 ',car1.num)\n",
    "print('속도는 ',car1.speed)"
   ]
  },
  {
   "cell_type": "code",
   "execution_count": 25,
   "id": "6356800f-50aa-4166-9610-757ebc7ca137",
   "metadata": {},
   "outputs": [],
   "source": [
    "class Car:\n",
    "    def __init__(self, num,speed,):\n",
    "        self.num=num\n",
    "        self.speed=speed\n",
    "    def fprint(self):\n",
    "        print('차량 번호 ',self.num)\n",
    "        print('속도는 ',self.speed)"
   ]
  },
  {
   "cell_type": "code",
   "execution_count": 26,
   "id": "07499851-a1f1-455c-927c-e7989914d4e5",
   "metadata": {},
   "outputs": [
    {
     "name": "stdout",
     "output_type": "stream",
     "text": [
      "차량 번호  2026\n",
      "속도는  100\n"
     ]
    }
   ],
   "source": [
    "car2=Car(2026,100)\n",
    "car2.fprint()"
   ]
  },
  {
   "cell_type": "code",
   "execution_count": 27,
   "id": "5498457a-232e-4e1c-8341-7a5d78d80d75",
   "metadata": {},
   "outputs": [
    {
     "name": "stdout",
     "output_type": "stream",
     "text": [
      "객체 obj내의 인스턴스 변수 x의 값은  10\n",
      "객체 obj내의 인스턴스 변수 y의 값은  20\n",
      "객체 obj내의 인스턴스 변수 hap의 값은  30\n"
     ]
    }
   ],
   "source": [
    "class Cadd:\n",
    "    def __init(self):\n",
    "        pass\n",
    "    def fadd(self, a,b):\n",
    "        self.x=a\n",
    "        self.y=b\n",
    "        self.hap=self.x+self.y\n",
    "\n",
    "obj=Cadd()\n",
    "obj.fadd(10,20)\n",
    "print('객체 obj내의 인스턴스 변수 x의 값은 ',obj.x)\n",
    "print('객체 obj내의 인스턴스 변수 y의 값은 ',obj.y)\n",
    "print('객체 obj내의 인스턴스 변수 hap의 값은 ',obj.x+obj.y)"
   ]
  },
  {
   "cell_type": "code",
   "execution_count": 29,
   "id": "01bd4f7f-327e-4ed7-8ccb-e86f4c3d5e29",
   "metadata": {},
   "outputs": [
    {
     "name": "stdout",
     "output_type": "stream",
     "text": [
      "ohap의 값은 ? 30\n"
     ]
    }
   ],
   "source": [
    "class Cadd:\n",
    "    def __init(self):\n",
    "        pass\n",
    "    def fadd(self, a,b):\n",
    "        x=a\n",
    "        y=b\n",
    "        hap=x+y\n",
    "        return hap\n",
    "\n",
    "obj2=Cadd()\n",
    "ohap=obj2.fadd(10,20)\n",
    "\n",
    "print('ohap의 값은 ?',ohap)"
   ]
  },
  {
   "cell_type": "code",
   "execution_count": 30,
   "id": "9ee24c51-85be-4508-a42d-3f310bfe353c",
   "metadata": {},
   "outputs": [
    {
     "name": "stdout",
     "output_type": "stream",
     "text": [
      "ohap의 값은 ? 30\n"
     ]
    }
   ],
   "source": [
    "class Cadd:\n",
    "    def __init(self):\n",
    "        pass\n",
    "    def fadd(self, a,b):\n",
    "        self.x=a\n",
    "        self.y=b\n",
    "        self.hap=self.x+self.y\n",
    "        return self.hap\n",
    "\n",
    "obj3=Cadd()\n",
    "ohap=obj3.fadd(10,20)\n",
    "\n",
    "print('ohap의 값은 ?',ohap)"
   ]
  },
  {
   "cell_type": "code",
   "execution_count": 33,
   "id": "c3ac4eea-aefa-4769-9754-edd09c03436d",
   "metadata": {},
   "outputs": [
    {
     "name": "stdout",
     "output_type": "stream",
     "text": [
      "ohap의 값은 ? 30\n"
     ]
    }
   ],
   "source": [
    "# 객체 멤버함수의 파라미터 설정\n",
    "\n",
    "class Cadd:\n",
    "    def __init__(self,x, y):\n",
    "        self.x=x\n",
    "        self.y=y\n",
    "    def fadd(self):        \n",
    "        return self.x+self.y\n",
    "\n",
    "obj4=Cadd(10,20)\n",
    "ohap=obj4.fadd()\n",
    "\n",
    "print('ohap의 값은 ?',ohap)"
   ]
  },
  {
   "cell_type": "code",
   "execution_count": 42,
   "id": "97e78045-de1e-49f4-a8c9-8e1a5c18c8d1",
   "metadata": {},
   "outputs": [],
   "source": [
    "class Cal2:\n",
    "    def __init__(self,num1,num2):\n",
    "        self.num1=num1\n",
    "        self.num2=num2\n",
    "    def adder(self):\n",
    "        return self.num1+self.num2\n",
    "    def suber(self):\n",
    "        return self.num1-self.num2\n",
    "    def mul(self):\n",
    "        return self.num1*self.num2\n",
    "    def div(self):\n",
    "        if self.num2==0:\n",
    "            raise '0으로 나눌수 없음'\n",
    "        return self.num1/self.num2\n",
    "        "
   ]
  },
  {
   "cell_type": "code",
   "execution_count": 43,
   "id": "edb69cac-d54f-494a-b24a-cd5cfee2ed32",
   "metadata": {},
   "outputs": [
    {
     "name": "stdout",
     "output_type": "stream",
     "text": [
      "더하기 :  110\n",
      "빼기 :  90\n",
      "곱하기 :  1000\n",
      "나누기 :  10.0\n"
     ]
    }
   ],
   "source": [
    "calcu=Cal2(100,10)\n",
    "\n",
    "print('더하기 : ',calcu.adder())\n",
    "print('빼기 : ',calcu.suber())\n",
    "print('곱하기 : ',calcu.mul())\n",
    "print('나누기 : ',calcu.div())"
   ]
  },
  {
   "cell_type": "code",
   "execution_count": 50,
   "id": "1b70a7c5-0704-40ed-8a4a-402b61dfac15",
   "metadata": {},
   "outputs": [],
   "source": [
    "from fcal import Fcalc,Fcala"
   ]
  },
  {
   "cell_type": "code",
   "execution_count": 52,
   "id": "0df3df84-ee0f-4461-8d2b-d24646cca85b",
   "metadata": {},
   "outputs": [
    {
     "name": "stdout",
     "output_type": "stream",
     "text": [
      "30\n",
      "100\n"
     ]
    }
   ],
   "source": [
    "calc1=Fcalc()\n",
    "cala1=Fcala()\n",
    "print(calc1.fadd(10,20))\n",
    "print(cala1.fsqrt(10,2))"
   ]
  },
  {
   "cell_type": "code",
   "execution_count": null,
   "id": "cfdf830c-eec4-48b6-91e1-8bcab9d2cf42",
   "metadata": {},
   "outputs": [],
   "source": []
  },
  {
   "cell_type": "code",
   "execution_count": null,
   "id": "9a4a1553-e38a-4fa6-b875-43b02d29bc44",
   "metadata": {},
   "outputs": [],
   "source": []
  },
  {
   "cell_type": "code",
   "execution_count": null,
   "id": "8a13c024-fc17-466e-949e-64579d8b4219",
   "metadata": {},
   "outputs": [],
   "source": []
  },
  {
   "cell_type": "code",
   "execution_count": null,
   "id": "dd7af4a6-7ac9-4498-82d0-11b3245d4606",
   "metadata": {},
   "outputs": [],
   "source": []
  },
  {
   "cell_type": "code",
   "execution_count": null,
   "id": "66da3422-a8cd-4cb9-bb18-985acb042e2b",
   "metadata": {},
   "outputs": [],
   "source": []
  },
  {
   "cell_type": "code",
   "execution_count": null,
   "id": "0137cc38-65c1-489b-8532-712ad647956f",
   "metadata": {},
   "outputs": [],
   "source": []
  }
 ],
 "metadata": {
  "kernelspec": {
   "display_name": "Python 3 (ipykernel)",
   "language": "python",
   "name": "python3"
  },
  "language_info": {
   "codemirror_mode": {
    "name": "ipython",
    "version": 3
   },
   "file_extension": ".py",
   "mimetype": "text/x-python",
   "name": "python",
   "nbconvert_exporter": "python",
   "pygments_lexer": "ipython3",
   "version": "3.12.8"
  }
 },
 "nbformat": 4,
 "nbformat_minor": 5
}
