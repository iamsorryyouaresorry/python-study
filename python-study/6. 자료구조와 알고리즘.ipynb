{
 "cells": [
  {
   "cell_type": "markdown",
   "id": "40874b61-34b3-49a7-9dfe-ff7b90366358",
   "metadata": {},
   "source": [
    "# 최대값 찾기"
   ]
  },
  {
   "cell_type": "code",
   "execution_count": 1,
   "id": "f82a45d7-94d4-4028-80c6-5d8775c6f505",
   "metadata": {},
   "outputs": [
    {
     "name": "stdout",
     "output_type": "stream",
     "text": [
      "17\n"
     ]
    }
   ],
   "source": [
    "ca=[10,17,13,11]\n",
    "maxer = ca[0]\n",
    "if maxer < ca[1]:\n",
    "    maxer=ca[1]\n",
    "\n",
    "print(maxer)"
   ]
  },
  {
   "cell_type": "code",
   "execution_count": 2,
   "id": "b3a80d74-b5a6-4ed3-87c4-f8e56a886e19",
   "metadata": {},
   "outputs": [
    {
     "name": "stdout",
     "output_type": "stream",
     "text": [
      "17\n"
     ]
    }
   ],
   "source": [
    "ca=[10,17,13,11]\n",
    "maxer = ca[0]\n",
    "for i in ca:\n",
    "    if maxer < i:\n",
    "        maxer=i\n",
    "\n",
    "print(maxer)"
   ]
  },
  {
   "cell_type": "markdown",
   "id": "10c12b6e-792f-4c5c-985c-f9a4d6044d5c",
   "metadata": {},
   "source": [
    "# 원소의 갯수를 모를 경우"
   ]
  },
  {
   "cell_type": "code",
   "execution_count": 3,
   "id": "c4cd0dc4-6bb2-4da8-a1ad-90b8fcfc4147",
   "metadata": {},
   "outputs": [
    {
     "name": "stdout",
     "output_type": "stream",
     "text": [
      "17\n"
     ]
    }
   ],
   "source": [
    "print(max(ca))"
   ]
  },
  {
   "cell_type": "code",
   "execution_count": 4,
   "id": "73f3047d-f68a-429d-a2c6-40ee5c866054",
   "metadata": {},
   "outputs": [],
   "source": [
    "#del <max>"
   ]
  },
  {
   "cell_type": "code",
   "execution_count": 10,
   "id": "5e87f869-684d-4e10-962a-494c8074161f",
   "metadata": {},
   "outputs": [
    {
     "name": "stdout",
     "output_type": "stream",
     "text": [
      "10\n",
      "1\n"
     ]
    }
   ],
   "source": [
    "ca=[21,10,11,15,13]\n",
    "\n",
    "minix=ca[0]\n",
    "\n",
    "for sb in range(1,len(ca)):\n",
    "    if minix > ca[sb]:\n",
    "        minix=ca[sb]\n",
    "\n",
    "print(minix)\n",
    "print(ca.index(10))\n",
    "#print(ca.find(10))"
   ]
  },
  {
   "cell_type": "markdown",
   "id": "89324a57-8228-4cfa-9696-bd39291c395d",
   "metadata": {},
   "source": [
    "# 딕셔너리를 매개변수로 사용하는 방법"
   ]
  },
  {
   "cell_type": "code",
   "execution_count": 12,
   "id": "2adf31db-d5ba-4506-9a98-da4469ca5a2f",
   "metadata": {},
   "outputs": [
    {
     "name": "stdout",
     "output_type": "stream",
     "text": [
      "{'mon': '월', 'tue': '화', 'wed': '수'}\n"
     ]
    }
   ],
   "source": [
    "a={\n",
    "    'mon':'월',\n",
    "    'tue':'화',\n",
    "    'wed':'수',\n",
    "}\n",
    "\n",
    "print(a)"
   ]
  },
  {
   "cell_type": "code",
   "execution_count": 13,
   "id": "6d60b7a5-4acd-4f20-a849-87a1ef2e7bf9",
   "metadata": {},
   "outputs": [
    {
     "name": "stdout",
     "output_type": "stream",
     "text": [
      "{'mon': '월', 'tue': '화', 'wed': '수'}\n"
     ]
    }
   ],
   "source": [
    "x=a\n",
    "print(x)"
   ]
  },
  {
   "cell_type": "code",
   "execution_count": 14,
   "id": "970aa070-0a75-48fd-a87d-b3f9a383c62f",
   "metadata": {},
   "outputs": [
    {
     "name": "stdout",
     "output_type": "stream",
     "text": [
      "{'mon': '일', 'tue': '화', 'wed': '수'}\n",
      "{'mon': '일', 'tue': '화', 'wed': '수'}\n"
     ]
    }
   ],
   "source": [
    "x['mon']='일'\n",
    "print(x)\n",
    "print(a)"
   ]
  },
  {
   "cell_type": "code",
   "execution_count": 16,
   "id": "b598ed5e-e774-46c2-9e80-5da12a023671",
   "metadata": {},
   "outputs": [
    {
     "name": "stdout",
     "output_type": "stream",
     "text": [
      "{'mon': '월', 'tue': '화', 'wed': '수'}\n"
     ]
    }
   ],
   "source": [
    "a={\n",
    "    'mon':'월',\n",
    "    'tue':'화',\n",
    "    'wed':'수',\n",
    "}\n",
    "\n",
    "print(a)"
   ]
  },
  {
   "cell_type": "code",
   "execution_count": 17,
   "id": "e64c1fcc-fa70-4114-adc7-6794310f8209",
   "metadata": {},
   "outputs": [
    {
     "name": "stdout",
     "output_type": "stream",
     "text": [
      "{'mon': '월', 'tue': '화', 'wed': '수'}\n"
     ]
    }
   ],
   "source": [
    "x=a\n",
    "print(x)"
   ]
  },
  {
   "cell_type": "code",
   "execution_count": null,
   "id": "2ddd377b-846b-4e4d-b194-f0bd3bb13331",
   "metadata": {},
   "outputs": [],
   "source": [
    "def fch(x):\n",
    "    x['mon']='일'"
   ]
  },
  {
   "cell_type": "code",
   "execution_count": 18,
   "id": "b5e9e3fc-cae3-47ac-a18c-7e3cf2bb82ca",
   "metadata": {},
   "outputs": [
    {
     "name": "stdout",
     "output_type": "stream",
     "text": [
      "1\n",
      "2\n",
      "3\n",
      "4\n",
      "5\n"
     ]
    }
   ],
   "source": [
    "def my_func(*args):\n",
    "    for arg in args:\n",
    "        print(arg)\n",
    "\n",
    "my_func(1,2,3,4,5)"
   ]
  },
  {
   "cell_type": "code",
   "execution_count": 21,
   "id": "13a3004a-9da9-4a0e-adf7-3cb0c9a949ae",
   "metadata": {},
   "outputs": [],
   "source": [
    "def my_func2(**kwargs):\n",
    "    for key,value in kwargs.items():\n",
    "       # print('key : ',key,' value : ',value)\n",
    "        print(key,' : ',value)"
   ]
  },
  {
   "cell_type": "code",
   "execution_count": 22,
   "id": "756b40a9-54bc-4b13-9406-d56ebbb4b15a",
   "metadata": {},
   "outputs": [
    {
     "name": "stdout",
     "output_type": "stream",
     "text": [
      "name  :  john\n",
      "age  :  30\n",
      "gender  :  Male\n",
      "loc  :  seoul\n"
     ]
    }
   ],
   "source": [
    "my_func2(name='john',age=30, gender='Male',loc='seoul')"
   ]
  },
  {
   "cell_type": "code",
   "execution_count": 27,
   "id": "a3b930c1-34eb-4740-ba1a-9283740cbd9a",
   "metadata": {},
   "outputs": [],
   "source": [
    "def my_func3(*args,**kwargs):\n",
    "    for arg in args:\n",
    "        print(arg, end=' ')\n",
    "    print()\n",
    "    for k,v in kwargs.items():\n",
    "        print(k,' : ',v)"
   ]
  },
  {
   "cell_type": "code",
   "execution_count": 28,
   "id": "a4d34530-fa4c-4dac-a8fc-6c8871c3e67c",
   "metadata": {},
   "outputs": [
    {
     "name": "stdout",
     "output_type": "stream",
     "text": [
      "1 2 3 4 5 \n",
      "name  :  john\n",
      "age  :  30\n",
      "gender  :  Male\n",
      "loc  :  seoul\n"
     ]
    }
   ],
   "source": [
    "my_func3(1,2,3,4,5,name='john',age=30, gender='Male',loc='seoul')"
   ]
  },
  {
   "cell_type": "code",
   "execution_count": null,
   "id": "bcac6eae-57b9-40cf-b12b-08b99dc590cf",
   "metadata": {},
   "outputs": [],
   "source": []
  }
 ],
 "metadata": {
  "kernelspec": {
   "display_name": "Python 3 (ipykernel)",
   "language": "python",
   "name": "python3"
  },
  "language_info": {
   "codemirror_mode": {
    "name": "ipython",
    "version": 3
   },
   "file_extension": ".py",
   "mimetype": "text/x-python",
   "name": "python",
   "nbconvert_exporter": "python",
   "pygments_lexer": "ipython3",
   "version": "3.12.8"
  }
 },
 "nbformat": 4,
 "nbformat_minor": 5
}
