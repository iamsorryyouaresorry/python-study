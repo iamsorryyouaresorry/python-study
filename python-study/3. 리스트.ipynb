{
 "cells": [
  {
   "cell_type": "code",
   "execution_count": 10,
   "id": "a926d69a-6af0-48b2-bd33-20b9e34b03f2",
   "metadata": {},
   "outputs": [
    {
     "data": {
      "text/plain": [
       "'C:\\\\Users\\\\ITBANK NR 306_5'"
      ]
     },
     "execution_count": 10,
     "metadata": {},
     "output_type": "execute_result"
    }
   ],
   "source": [
    "import os\n",
    "os.getcwd()"
   ]
  },
  {
   "cell_type": "code",
   "execution_count": 1,
   "id": "d5a5915b-fe96-46f7-a8b3-b2073b7c1da8",
   "metadata": {},
   "outputs": [
    {
     "data": {
      "text/plain": [
       "['삼성전자', 'SK하이닉스', '네이버']"
      ]
     },
     "execution_count": 1,
     "metadata": {},
     "output_type": "execute_result"
    }
   ],
   "source": [
    "company_list = ['삼성전자','SK하이닉스','네이버']\n",
    "company_list"
   ]
  },
  {
   "cell_type": "code",
   "execution_count": 2,
   "id": "0fe68a76-a58c-4cb3-bf2e-0046d575be1a",
   "metadata": {},
   "outputs": [
    {
     "name": "stdout",
     "output_type": "stream",
     "text": [
      "['삼성전자', 'SK하이닉스', '네이버']\n"
     ]
    }
   ],
   "source": [
    "print(company_list)"
   ]
  },
  {
   "cell_type": "code",
   "execution_count": 3,
   "id": "ae8afe57-e0a3-4be2-abba-67c913091d02",
   "metadata": {},
   "outputs": [
    {
     "data": {
      "text/plain": [
       "list"
      ]
     },
     "execution_count": 3,
     "metadata": {},
     "output_type": "execute_result"
    }
   ],
   "source": [
    "type(company_list)"
   ]
  },
  {
   "cell_type": "code",
   "execution_count": 5,
   "id": "6cb7ce93-9d58-45ef-b5f3-83b991ffc991",
   "metadata": {},
   "outputs": [
    {
     "name": "stdout",
     "output_type": "stream",
     "text": [
      "삼성전자\n",
      "SK하이닉스\n",
      "네이버\n"
     ]
    }
   ],
   "source": [
    "print(company_list[0])\n",
    "print(company_list[1])\n",
    "print(company_list[-1])"
   ]
  },
  {
   "cell_type": "code",
   "execution_count": 6,
   "id": "984b55cf-7353-4e1e-af5f-ffa55a79aaf9",
   "metadata": {},
   "outputs": [
    {
     "name": "stdout",
     "output_type": "stream",
     "text": [
      "['애플', '구글', '테슬라']\n"
     ]
    }
   ],
   "source": [
    "company_list[0] = '애플'\n",
    "company_list[1] = '구글'\n",
    "company_list[2] = '테슬라'\n",
    "print(company_list)"
   ]
  },
  {
   "cell_type": "code",
   "execution_count": 7,
   "id": "ca041326-88a4-452d-acaa-f1b2c48db9b2",
   "metadata": {},
   "outputs": [
    {
     "data": {
      "text/plain": [
       "['애플', '구글', '테슬라', '마이크로소프트']"
      ]
     },
     "execution_count": 7,
     "metadata": {},
     "output_type": "execute_result"
    }
   ],
   "source": [
    "company_list.append('마이크로소프트')\n",
    "company_list"
   ]
  },
  {
   "cell_type": "code",
   "execution_count": 8,
   "id": "8bac2254-619b-454d-9d3c-c60d0729e81e",
   "metadata": {},
   "outputs": [
    {
     "name": "stdout",
     "output_type": "stream",
     "text": [
      "['구글', '테슬라', '마이크로소프트']\n"
     ]
    }
   ],
   "source": [
    "del company_list[0]\n",
    "print(company_list)"
   ]
  },
  {
   "cell_type": "code",
   "execution_count": 9,
   "id": "d936e5b1-cb21-494b-b841-24e4332c9754",
   "metadata": {},
   "outputs": [
    {
     "data": {
      "text/plain": [
       "3"
      ]
     },
     "execution_count": 9,
     "metadata": {},
     "output_type": "execute_result"
    }
   ],
   "source": [
    "len(company_list)"
   ]
  },
  {
   "cell_type": "code",
   "execution_count": 11,
   "id": "d43fb333-286a-4337-82d3-ea966be38f78",
   "metadata": {},
   "outputs": [
    {
     "data": {
      "text/plain": [
       "[1, 2, 3, 4, 5, 6, 7, 9]"
      ]
     },
     "execution_count": 11,
     "metadata": {},
     "output_type": "execute_result"
    }
   ],
   "source": [
    "num_list = [1, 2, 3, 4, 5, 6, 7, 9]\n",
    "num_list"
   ]
  },
  {
   "cell_type": "code",
   "execution_count": 12,
   "id": "fd2901af-1a5c-4895-b37e-beab0517c34e",
   "metadata": {},
   "outputs": [
    {
     "data": {
      "text/plain": [
       "1"
      ]
     },
     "execution_count": 12,
     "metadata": {},
     "output_type": "execute_result"
    }
   ],
   "source": [
    "num_list[0]"
   ]
  },
  {
   "cell_type": "code",
   "execution_count": 13,
   "id": "4e23ffab-9495-4c0b-9b76-d4cc4067b557",
   "metadata": {},
   "outputs": [
    {
     "data": {
      "text/plain": [
       "[1, 2, 3, 4]"
      ]
     },
     "execution_count": 13,
     "metadata": {},
     "output_type": "execute_result"
    }
   ],
   "source": [
    "num_list[0:4]"
   ]
  },
  {
   "cell_type": "code",
   "execution_count": 14,
   "id": "a3335cf2-4013-4389-945a-f39e0a6c6572",
   "metadata": {},
   "outputs": [
    {
     "data": {
      "text/plain": [
       "[1, 2, 3, 4]"
      ]
     },
     "execution_count": 14,
     "metadata": {},
     "output_type": "execute_result"
    }
   ],
   "source": [
    "num_list[:4]"
   ]
  },
  {
   "cell_type": "code",
   "execution_count": 15,
   "id": "d80456e1-64bc-4cfe-a434-26053190b8c0",
   "metadata": {},
   "outputs": [
    {
     "data": {
      "text/plain": [
       "[3, 4, 5]"
      ]
     },
     "execution_count": 15,
     "metadata": {},
     "output_type": "execute_result"
    }
   ],
   "source": [
    "num_list[2:5]"
   ]
  },
  {
   "cell_type": "code",
   "execution_count": 16,
   "id": "ae20696d-180f-420a-a1d7-2051acffa569",
   "metadata": {},
   "outputs": [
    {
     "data": {
      "text/plain": [
       "[6, 7, 9]"
      ]
     },
     "execution_count": 16,
     "metadata": {},
     "output_type": "execute_result"
    }
   ],
   "source": [
    "num_list[5:]"
   ]
  },
  {
   "cell_type": "code",
   "execution_count": 17,
   "id": "4e81ccf1-1307-4583-952b-1a48f52df774",
   "metadata": {},
   "outputs": [
    {
     "data": {
      "text/plain": [
       "[1, 4, 7]"
      ]
     },
     "execution_count": 17,
     "metadata": {},
     "output_type": "execute_result"
    }
   ],
   "source": [
    "num_list[::3]"
   ]
  },
  {
   "cell_type": "code",
   "execution_count": 19,
   "id": "3783d21b-7cfb-467a-a6be-cf128804253a",
   "metadata": {},
   "outputs": [
    {
     "name": "stdout",
     "output_type": "stream",
     "text": [
      "대검을(를) 확인했습니다.\n",
      "창닫기\n",
      "포션을(를) 확인했습니다.\n",
      "창닫기\n",
      "마법사을(를) 확인했습니다.\n",
      "창닫기\n"
     ]
    }
   ],
   "source": [
    "inventory = ['대검','포션','마법사']\n",
    "\n",
    "for item in inventory:\n",
    "    print(item + '을(를) 확인했습니다.')\n",
    "    print('창닫기')"
   ]
  },
  {
   "cell_type": "code",
   "execution_count": 24,
   "id": "12c2d134-4225-489e-b1cb-b9ca19a48f69",
   "metadata": {},
   "outputs": [],
   "source": [
    "game_map = [\n",
    "    ['대검','포션',None],\n",
    "    [None, '보물상자','포션'],\n",
    "    ['몬스터',None,'열쇠']\n",
    "]"
   ]
  },
  {
   "cell_type": "code",
   "execution_count": 25,
   "id": "f2acab6f-54dd-454b-bd20-239ec80a8798",
   "metadata": {},
   "outputs": [
    {
     "name": "stdout",
     "output_type": "stream",
     "text": [
      "['대검', '포션', None]\n",
      "item  대검\n",
      "item  포션\n",
      "item  None\n",
      "[None, '보물상자', '포션']\n",
      "item  None\n",
      "item  보물상자\n",
      "item  포션\n",
      "['몬스터', None, '열쇠']\n",
      "item  몬스터\n",
      "item  None\n",
      "item  열쇠\n"
     ]
    }
   ],
   "source": [
    "for game in game_map:\n",
    "    print(game)\n",
    "    for item in game:\n",
    "        print('item ',item)"
   ]
  },
  {
   "cell_type": "code",
   "execution_count": 26,
   "id": "6e5920ce-2710-4584-97d8-b2c34c5c2be4",
   "metadata": {},
   "outputs": [
    {
     "data": {
      "text/plain": [
       "str"
      ]
     },
     "execution_count": 26,
     "metadata": {},
     "output_type": "execute_result"
    }
   ],
   "source": [
    "type(game_map[0][0])"
   ]
  },
  {
   "cell_type": "code",
   "execution_count": 27,
   "id": "157f2ec4-5a9e-48ae-9c70-e6935674ff0e",
   "metadata": {},
   "outputs": [
    {
     "data": {
      "text/plain": [
       "'대검'"
      ]
     },
     "execution_count": 27,
     "metadata": {},
     "output_type": "execute_result"
    }
   ],
   "source": [
    "game_map[0][0]"
   ]
  },
  {
   "cell_type": "code",
   "execution_count": 29,
   "id": "2b603977-9de4-4b18-97a1-9df53f178beb",
   "metadata": {},
   "outputs": [
    {
     "name": "stdout",
     "output_type": "stream",
     "text": [
      "최고 점수 :  200\n"
     ]
    }
   ],
   "source": [
    "scores = [120,150,180,200,170]\n",
    "max_score = 0\n",
    "for score in scores:\n",
    "    if score > max_score:\n",
    "        max_score = score\n",
    "print('최고 점수 : ', max_score)"
   ]
  },
  {
   "cell_type": "code",
   "execution_count": 30,
   "id": "cb70356e-a832-4a74-aa06-a1999d2ec2ff",
   "metadata": {},
   "outputs": [
    {
     "data": {
      "text/plain": [
       "200"
      ]
     },
     "execution_count": 30,
     "metadata": {},
     "output_type": "execute_result"
    }
   ],
   "source": [
    "max(scores)"
   ]
  },
  {
   "cell_type": "code",
   "execution_count": 31,
   "id": "3b1601d2-8ef4-4c31-8136-cd3bcfcba869",
   "metadata": {},
   "outputs": [
    {
     "data": {
      "text/plain": [
       "120"
      ]
     },
     "execution_count": 31,
     "metadata": {},
     "output_type": "execute_result"
    }
   ],
   "source": [
    "min(scores)"
   ]
  },
  {
   "cell_type": "code",
   "execution_count": 32,
   "id": "2d004c0e-47fd-4cca-a2b4-016dd0d1fba4",
   "metadata": {},
   "outputs": [
    {
     "data": {
      "text/plain": [
       "820"
      ]
     },
     "execution_count": 32,
     "metadata": {},
     "output_type": "execute_result"
    }
   ],
   "source": [
    "sum(scores)"
   ]
  },
  {
   "cell_type": "code",
   "execution_count": 34,
   "id": "06b15b02-8527-4416-9480-48c72e9d25c5",
   "metadata": {},
   "outputs": [
    {
     "name": "stdout",
     "output_type": "stream",
     "text": [
      "6\n",
      "3\n",
      "8\n"
     ]
    }
   ],
   "source": [
    "rooms = [\n",
    "    [3,1,2],\n",
    "    [2,0,1],\n",
    "    [1,3,4]\n",
    "]\n",
    "\n",
    "print(sum(rooms[0]))\n",
    "print(sum(rooms[1]))\n",
    "print(sum(rooms[2]))"
   ]
  },
  {
   "cell_type": "code",
   "execution_count": 36,
   "id": "c1378bdd-06dd-4c27-ac6b-cd46066efbf9",
   "metadata": {},
   "outputs": [
    {
     "name": "stdout",
     "output_type": "stream",
     "text": [
      "17\n"
     ]
    }
   ],
   "source": [
    "output = 0\n",
    "for room in rooms:\n",
    "    output += sum(room)\n",
    "print(output)"
   ]
  },
  {
   "cell_type": "code",
   "execution_count": 37,
   "id": "009727c9-6358-47e4-b1c8-4846e0e266bb",
   "metadata": {},
   "outputs": [
    {
     "name": "stdout",
     "output_type": "stream",
     "text": [
      "17\n"
     ]
    }
   ],
   "source": [
    "total = 0\n",
    "\n",
    "for room in rooms:\n",
    "    for i in room:\n",
    "        total += i\n",
    "print(total)"
   ]
  },
  {
   "cell_type": "code",
   "execution_count": null,
   "id": "a1db5fff-2abf-404f-b110-d9669afa27a8",
   "metadata": {},
   "outputs": [],
   "source": []
  },
  {
   "cell_type": "code",
   "execution_count": null,
   "id": "991936f1-f487-44d9-a736-951fadefccf2",
   "metadata": {},
   "outputs": [],
   "source": []
  },
  {
   "cell_type": "code",
   "execution_count": null,
   "id": "c10f5707-118d-4105-9015-741bdcbdeaf9",
   "metadata": {},
   "outputs": [],
   "source": []
  },
  {
   "cell_type": "code",
   "execution_count": null,
   "id": "083e4268-e414-4dae-a643-2d67eec5f1be",
   "metadata": {},
   "outputs": [],
   "source": []
  },
  {
   "cell_type": "code",
   "execution_count": null,
   "id": "9b531dd6-68b0-4d56-bac2-8190d0326a56",
   "metadata": {},
   "outputs": [],
   "source": []
  },
  {
   "cell_type": "code",
   "execution_count": null,
   "id": "c8234418-88b2-4704-ab07-8ca114ef36e0",
   "metadata": {},
   "outputs": [],
   "source": []
  },
  {
   "cell_type": "code",
   "execution_count": null,
   "id": "6ded6790-c2d3-405f-9568-326afbf021d0",
   "metadata": {},
   "outputs": [],
   "source": []
  }
 ],
 "metadata": {
  "kernelspec": {
   "display_name": "Python 3 (ipykernel)",
   "language": "python",
   "name": "python3"
  },
  "language_info": {
   "codemirror_mode": {
    "name": "ipython",
    "version": 3
   },
   "file_extension": ".py",
   "mimetype": "text/x-python",
   "name": "python",
   "nbconvert_exporter": "python",
   "pygments_lexer": "ipython3",
   "version": "3.12.8"
  }
 },
 "nbformat": 4,
 "nbformat_minor": 5
}
