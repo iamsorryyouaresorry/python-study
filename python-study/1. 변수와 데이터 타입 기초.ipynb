{
 "cells": [
  {
   "cell_type": "markdown",
   "id": "bbbf1ffa-1568-4131-aad9-1446ffd20091",
   "metadata": {},
   "source": [
    "# 1. 변수와 데이터 타입 기초\n",
    "## 1.1. 변수 선언과 값 할당\n",
    "변수는 데이터를 저장하는 공간을 나타냅니다. Python에서 변수는 특정 값에 이름을 붙여서 사용합니다."
   ]
  },
  {
   "cell_type": "code",
   "execution_count": 2,
   "id": "97a1a852-193b-48d5-9f23-f4b83f7b5d5d",
   "metadata": {},
   "outputs": [],
   "source": [
    "# 변수 선언과 값 할당\n",
    "x = 10           # 정수형\n",
    "name = \"Alice\"    # 문자열\n",
    "height = 1.75     # 실수형\n",
    "is_student = True # 불리언"
   ]
  },
  {
   "cell_type": "markdown",
   "id": "1eccd723-2d09-478c-9e20-da7c4c30a35b",
   "metadata": {},
   "source": [
    "## 1.2. 데이터 타입 확인하기\n",
    "Python에서는 type() 함수를 사용하여 변수의 데이터 타입을 확인할 수 있습니다."
   ]
  },
  {
   "cell_type": "code",
   "execution_count": 3,
   "id": "2afebdd1-c100-4833-8854-e353ddb7582b",
   "metadata": {},
   "outputs": [
    {
     "name": "stdout",
     "output_type": "stream",
     "text": [
      "<class 'int'>\n",
      "<class 'str'>\n",
      "<class 'float'>\n",
      "<class 'bool'>\n"
     ]
    }
   ],
   "source": [
    "print(type(x))        # <class 'int'>\n",
    "print(type(name))     # <class 'str'>\n",
    "print(type(height))   # <class 'float'>\n",
    "print(type(is_student)) # <class 'bool'>"
   ]
  },
  {
   "cell_type": "code",
   "execution_count": 5,
   "id": "51a34529-1d84-48a1-b7e3-6c77b68c1c82",
   "metadata": {
    "collapsed": true,
    "jupyter": {
     "outputs_hidden": true
    }
   },
   "outputs": [
    {
     "name": "stdout",
     "output_type": "stream",
     "text": [
      "x =  10\n",
      "name =  Alice\n",
      "height =  1.75\n",
      "is_student =  True\n"
     ]
    }
   ],
   "source": [
    "print('x = ', x)      \n",
    "print('name = ', name)     \n",
    "print('height = ', height)   \n",
    "print('is_student = ', is_student)"
   ]
  },
  {
   "cell_type": "markdown",
   "id": "bf8f53a6-da13-4927-a2a6-801f6837d378",
   "metadata": {},
   "source": [
    "## 1.3. 데이터 타입 변환하기\n",
    "Python에서는 데이터를 다른 타입으로 변환할 수 있습니다. 예를 들어, 정수를 실수로 변환하거나 문자열을 숫자로 변환할 수 있습니다."
   ]
  },
  {
   "cell_type": "code",
   "execution_count": 11,
   "id": "a1dcb37f-7582-42c9-9956-c027d5f53a83",
   "metadata": {},
   "outputs": [
    {
     "name": "stdout",
     "output_type": "stream",
     "text": [
      "100\n",
      "1.75\n"
     ]
    }
   ],
   "source": [
    "# 데이터 타입 변환 예제\n",
    "num_str = \"100\"     # 문자열\n",
    "num_int = int(num_str)  # 문자열을 정수로 변환\n",
    "print(num_int)       # 100\n",
    "\n",
    "height_str = str(height)  # 실수를 문자열로 변환\n",
    "print(height_str)   # '1.75'\n"
   ]
  },
  {
   "cell_type": "markdown",
   "id": "d01efb18-7116-4a4b-9f70-e26803ea2384",
   "metadata": {},
   "source": [
    "# 2. 다양한 데이터 타입 실습\n",
    "## 2.1. 정수 (int)\n",
    "정수는 소수점이 없는 숫자를 나타냅니다."
   ]
  },
  {
   "cell_type": "code",
   "execution_count": 12,
   "id": "28385de8-73b0-4e89-a2d4-ad2972e47fdd",
   "metadata": {},
   "outputs": [
    {
     "name": "stdout",
     "output_type": "stream",
     "text": [
      "합: 43\n"
     ]
    }
   ],
   "source": [
    "# 정수 예제\n",
    "num1 = 50\n",
    "num2 = -7\n",
    "sum_result = num1 + num2\n",
    "print(\"합:\", sum_result)  # 43"
   ]
  },
  {
   "cell_type": "markdown",
   "id": "583828bb-a7ad-40d2-91e6-2ba10243a283",
   "metadata": {},
   "source": [
    "## 2.2. 실수 (float)\n",
    "실수는 소수점이 있는 숫자를 나타냅니다."
   ]
  },
  {
   "cell_type": "code",
   "execution_count": 1,
   "id": "399d3804-dde0-43bb-9b86-e7d374863ad4",
   "metadata": {},
   "outputs": [
    {
     "name": "stdout",
     "output_type": "stream",
     "text": [
      "BMI: 23.020408163265305\n"
     ]
    }
   ],
   "source": [
    "# 실수 예제\n",
    "height = 1.75\n",
    "weight = 70.5\n",
    "bmi = weight / (height ** 2)  # BMI 계산\n",
    "print(\"BMI:\", bmi)  # 22.98 (대략적인 결과)"
   ]
  },
  {
   "cell_type": "markdown",
   "id": "084e8e3f-db11-4cb1-9ca3-974a9fe40a01",
   "metadata": {},
   "source": [
    "## 2.3. 문자열 (str)\n",
    "문자열은 작은따옴표(') 또는 큰따옴표(\")로 감싸서 만들 수 있습니다."
   ]
  },
  {
   "cell_type": "code",
   "execution_count": 2,
   "id": "8bac8263-9312-4bae-a8d1-491cd912d53f",
   "metadata": {},
   "outputs": [
    {
     "name": "stdout",
     "output_type": "stream",
     "text": [
      "Hello, World!\n",
      "Hello Alice!\n"
     ]
    }
   ],
   "source": [
    "# 문자열 예제\n",
    "greeting = \"Hello, World!\"\n",
    "print(greeting)  # Hello, World!\n",
    "# 문자열 연결 (concatenation)\n",
    "full_greeting = \"Hello\" + \" \" + \"Alice!\"\n",
    "print(full_greeting)  # Hello Alice!"
   ]
  },
  {
   "cell_type": "markdown",
   "id": "524d707e-a0ee-4386-864c-551cfccbcac8",
   "metadata": {},
   "source": [
    "## 2.4. 불리언 (bool)\n",
    "불리언은 True 또는 False 값만 가질 수 있는 데이터 타입입니다."
   ]
  },
  {
   "cell_type": "code",
   "execution_count": 3,
   "id": "b8ce64ab-ce0e-4d26-bdf6-26dfde359b63",
   "metadata": {},
   "outputs": [
    {
     "name": "stdout",
     "output_type": "stream",
     "text": [
      "비가 오나요? True\n",
      "맑은 날인가요? False\n"
     ]
    }
   ],
   "source": [
    "# 불리언 예제\n",
    "is_raining = True\n",
    "is_sunny = False\n",
    "print(\"비가 오나요?\", is_raining)  # True\n",
    "print(\"맑은 날인가요?\", is_sunny)  # False"
   ]
  },
  {
   "cell_type": "markdown",
   "id": "d07e2ac7-229d-408d-b9c8-159ba71a7c47",
   "metadata": {},
   "source": [
    "문제 1: 변수 선언과 연산¶\n",
    "정수 변수 a = 15, b = 4를 선언하고, 두 변수의 합, 차, 곱, 나눗셈 결과를 각각 출력하는 프로그램을 작성하세요."
   ]
  },
  {
   "cell_type": "code",
   "execution_count": 4,
   "id": "e67352c0-5721-45ac-b68a-e6ad463a7c33",
   "metadata": {},
   "outputs": [
    {
     "name": "stdout",
     "output_type": "stream",
     "text": [
      "더하기 :  19\n",
      "빼기 :  11\n",
      "곱하기 :  60\n",
      "나누기 :  3.75\n"
     ]
    }
   ],
   "source": [
    "a=15\n",
    "b=4\n",
    "print('더하기 : ',a+b)\n",
    "print('빼기 : ',a-b)\n",
    "print('곱하기 : ',a*b)\n",
    "print('나누기 : ',a/b)"
   ]
  },
  {
   "cell_type": "markdown",
   "id": "179653c3-452d-4771-9bbb-b776b4101220",
   "metadata": {},
   "source": [
    "문제 2: 문자열 다루기\n",
    "사용자의 이름을 입력받고, 그 이름을 \"Hello, [이름]!\" 형식으로 출력하는 프로그램을 작성하세요."
   ]
  },
  {
   "cell_type": "code",
   "execution_count": 7,
   "id": "5a98f330-1e88-477e-8275-3d43e0439883",
   "metadata": {},
   "outputs": [
    {
     "name": "stdin",
     "output_type": "stream",
     "text": [
      "이름을 입력>>>> tom\n"
     ]
    },
    {
     "name": "stdout",
     "output_type": "stream",
     "text": [
      "\"Hello, [tom]!\"\n"
     ]
    }
   ],
   "source": [
    "name=input('이름을 입력>>>>')\n",
    "print('\"Hello, [{}]!\"'.format(name))"
   ]
  },
  {
   "cell_type": "markdown",
   "id": "e881acab-8d67-4b9b-b08e-45463ba9fd16",
   "metadata": {},
   "source": [
    "문제 3: BMI 계산기\n",
    "키와 몸무게를 입력받아 BMI(체질량지수)를 계산하는 프로그램을 작성하세요.\n",
    "BMI 계산 공식: BMI = 체중(kg) / (신장(m) ** 2)"
   ]
  },
  {
   "cell_type": "code",
   "execution_count": 15,
   "id": "8c8f5cf3-7d30-4999-a8e0-cf89bd751554",
   "metadata": {},
   "outputs": [
    {
     "name": "stdin",
     "output_type": "stream",
     "text": [
      "ex)170cm->1.7 키 입력>>>> 1.68\n",
      "몸무게 입력>>>> 98\n"
     ]
    },
    {
     "name": "stdout",
     "output_type": "stream",
     "text": [
      "BMI = 34.72\n"
     ]
    }
   ],
   "source": [
    "h = float(input('ex)170cm->1.7 키 입력>>>>'))\n",
    "w = int(input('몸무게 입력>>>>'))\n",
    "bmi = w/(h**2)\n",
    "print('BMI = {:.2f}'.format(bmi))"
   ]
  },
  {
   "cell_type": "code",
   "execution_count": null,
   "id": "6c9cc3f9-6b4d-4eaa-b982-eafd1a4b73f1",
   "metadata": {},
   "outputs": [],
   "source": []
  }
 ],
 "metadata": {
  "kernelspec": {
   "display_name": "Python 3 (ipykernel)",
   "language": "python",
   "name": "python3"
  },
  "language_info": {
   "codemirror_mode": {
    "name": "ipython",
    "version": 3
   },
   "file_extension": ".py",
   "mimetype": "text/x-python",
   "name": "python",
   "nbconvert_exporter": "python",
   "pygments_lexer": "ipython3",
   "version": "3.12.8"
  }
 },
 "nbformat": 4,
 "nbformat_minor": 5
}
